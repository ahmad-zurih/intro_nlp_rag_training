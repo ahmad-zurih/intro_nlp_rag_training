{
 "cells": [
  {
   "cell_type": "code",
   "execution_count": 1,
   "id": "38f458d7-965c-4fef-b358-fc05f3b68cc3",
   "metadata": {},
   "outputs": [
    {
     "name": "stderr",
     "output_type": "stream",
     "text": [
      "2025-02-06 14:32:11.478448: I tensorflow/core/platform/cpu_feature_guard.cc:193] This TensorFlow binary is optimized with oneAPI Deep Neural Network Library (oneDNN) to use the following CPU instructions in performance-critical operations:  AVX2 AVX_VNNI FMA\n",
      "To enable them in other operations, rebuild TensorFlow with the appropriate compiler flags.\n",
      "2025-02-06 14:32:11.831924: I tensorflow/core/util/util.cc:169] oneDNN custom operations are on. You may see slightly different numerical results due to floating-point round-off errors from different computation orders. To turn them off, set the environment variable `TF_ENABLE_ONEDNN_OPTS=0`.\n",
      "2025-02-06 14:32:11.988267: E tensorflow/stream_executor/cuda/cuda_blas.cc:2981] Unable to register cuBLAS factory: Attempting to register factory for plugin cuBLAS when one has already been registered\n",
      "2025-02-06 14:32:12.915733: W tensorflow/stream_executor/platform/default/dso_loader.cc:64] Could not load dynamic library 'libnvinfer.so.7'; dlerror: libnvinfer.so.7: cannot open shared object file: No such file or directory; LD_LIBRARY_PATH: /usr/local/lib:\n",
      "2025-02-06 14:32:12.915848: W tensorflow/stream_executor/platform/default/dso_loader.cc:64] Could not load dynamic library 'libnvinfer_plugin.so.7'; dlerror: libnvinfer_plugin.so.7: cannot open shared object file: No such file or directory; LD_LIBRARY_PATH: /usr/local/lib:\n",
      "2025-02-06 14:32:12.915856: W tensorflow/compiler/tf2tensorrt/utils/py_utils.cc:38] TF-TRT Warning: Cannot dlopen some TensorRT libraries. If you would like to use Nvidia GPU with TensorRT, please make sure the missing libraries mentioned above are installed properly.\n"
     ]
    }
   ],
   "source": [
    "from transformers import pipeline"
   ]
  },
  {
   "cell_type": "code",
   "execution_count": 2,
   "id": "7558419e-429a-4883-ace1-f8725e1145af",
   "metadata": {},
   "outputs": [
    {
     "name": "stderr",
     "output_type": "stream",
     "text": [
      "No model was supplied, defaulted to distilbert/distilbert-base-uncased-finetuned-sst-2-english and revision 714eb0f (https://huggingface.co/distilbert/distilbert-base-uncased-finetuned-sst-2-english).\n",
      "Using a pipeline without specifying a model name and revision in production is not recommended.\n"
     ]
    },
    {
     "name": "stdout",
     "output_type": "stream",
     "text": [
      "Sentiment Analysis Pipeline:\n"
     ]
    },
    {
     "name": "stderr",
     "output_type": "stream",
     "text": [
      "Hardware accelerator e.g. GPU is available in the environment, but no `device` argument is passed to the `Pipeline` object. Model will be on CPU.\n"
     ]
    },
    {
     "name": "stdout",
     "output_type": "stream",
     "text": [
      "[{'label': 'POSITIVE', 'score': 0.9982925057411194}]\n"
     ]
    }
   ],
   "source": [
    "# Sentiment Analysis Pipeline\n",
    "# This pipeline returns the sentiment of a given sentence as positive or negative.\n",
    "print(\"Sentiment Analysis Pipeline:\")\n",
    "sentiment_pipeline = pipeline(\"sentiment-analysis\")\n",
    "result = sentiment_pipeline(\"I love using transformers for NLP tasks!\")\n",
    "print(result)\n",
    "# Deleting the pipeline variable to free up memory\n",
    "del sentiment_pipeline"
   ]
  },
  {
   "cell_type": "code",
   "execution_count": 3,
   "id": "12b23123-90c1-42ea-9e73-ccde8a847487",
   "metadata": {},
   "outputs": [
    {
     "name": "stderr",
     "output_type": "stream",
     "text": [
      "No model was supplied, defaulted to openai-community/gpt2 and revision 607a30d (https://huggingface.co/openai-community/gpt2).\n",
      "Using a pipeline without specifying a model name and revision in production is not recommended.\n"
     ]
    },
    {
     "name": "stdout",
     "output_type": "stream",
     "text": [
      "\n",
      "Text Generation Pipeline:\n"
     ]
    },
    {
     "name": "stderr",
     "output_type": "stream",
     "text": [
      "/home/ahmad-unibe/.local/lib/python3.10/site-packages/transformers/tokenization_utils_base.py:1617: FutureWarning: `clean_up_tokenization_spaces` was not set. It will be set to `True` by default. This behavior will be deprecated in transformers v4.45, and will be then set to `False` by default. For more details check this issue: https://github.com/huggingface/transformers/issues/31884\n",
      "  warnings.warn(\n",
      "Hardware accelerator e.g. GPU is available in the environment, but no `device` argument is passed to the `Pipeline` object. Model will be on CPU.\n",
      "Truncation was not explicitly activated but `max_length` is provided a specific value, please use `truncation=True` to explicitly truncate examples to max length. Defaulting to 'longest_first' truncation strategy. If you encode pairs of sequences (GLUE-style) with the tokenizer you can select this strategy more precisely by providing a specific strategy to `truncation`.\n",
      "Setting `pad_token_id` to `eos_token_id`:None for open-end generation.\n"
     ]
    },
    {
     "name": "stdout",
     "output_type": "stream",
     "text": [
      "In a distant future, humanity has a very small military force, but its military strength is still fairly small.\n",
      "\n",
      "It was only about 1000 years ago that, when the planet Vulcan arrived on Vulcan, it was already very much technologically advanced before being\n"
     ]
    }
   ],
   "source": [
    "# Text Generation Pipeline\n",
    "# This pipeline generates text based on a given prompt.\n",
    "print(\"\\nText Generation Pipeline:\")\n",
    "text_generator = pipeline(\"text-generation\")\n",
    "generated_text = text_generator(\"In a distant future, humanity has\", max_length=50)\n",
    "print(generated_text[0]['generated_text'])\n",
    "# Deleting the pipeline variable to free up memory\n",
    "del text_generator"
   ]
  },
  {
   "cell_type": "code",
   "execution_count": 4,
   "id": "0379298f-794b-464f-bd68-2ba944f07767",
   "metadata": {},
   "outputs": [
    {
     "name": "stderr",
     "output_type": "stream",
     "text": [
      "No model was supplied, defaulted to dbmdz/bert-large-cased-finetuned-conll03-english and revision 4c53496 (https://huggingface.co/dbmdz/bert-large-cased-finetuned-conll03-english).\n",
      "Using a pipeline without specifying a model name and revision in production is not recommended.\n"
     ]
    },
    {
     "name": "stdout",
     "output_type": "stream",
     "text": [
      "\n",
      "Named Entity Recognition Pipeline:\n"
     ]
    },
    {
     "name": "stderr",
     "output_type": "stream",
     "text": [
      "Some weights of the model checkpoint at dbmdz/bert-large-cased-finetuned-conll03-english were not used when initializing BertForTokenClassification: ['bert.pooler.dense.bias', 'bert.pooler.dense.weight']\n",
      "- This IS expected if you are initializing BertForTokenClassification from the checkpoint of a model trained on another task or with another architecture (e.g. initializing a BertForSequenceClassification model from a BertForPreTraining model).\n",
      "- This IS NOT expected if you are initializing BertForTokenClassification from the checkpoint of a model that you expect to be exactly identical (initializing a BertForSequenceClassification model from a BertForSequenceClassification model).\n",
      "Hardware accelerator e.g. GPU is available in the environment, but no `device` argument is passed to the `Pipeline` object. Model will be on CPU.\n"
     ]
    },
    {
     "name": "stdout",
     "output_type": "stream",
     "text": [
      "{'entity_group': 'ORG', 'score': 0.93828535, 'word': 'Hugging Face', 'start': 0, 'end': 12}\n",
      "{'entity_group': 'LOC', 'score': 0.9983865, 'word': 'New York', 'start': 35, 'end': 43}\n"
     ]
    }
   ],
   "source": [
    "# Named Entity Recognition (NER) Pipeline\n",
    "# This pipeline identifies entities in a sentence like person names, locations, or organizations.\n",
    "print(\"\\nNamed Entity Recognition Pipeline:\")\n",
    "ner_pipeline = pipeline(\"ner\", aggregation_strategy=\"simple\")\n",
    "ner_results = ner_pipeline(\"Hugging Face is a startup based in New York.\")\n",
    "for entity in ner_results:\n",
    "    print(entity)\n",
    "# Deleting the pipeline variable to free up memory\n",
    "del ner_pipeline"
   ]
  },
  {
   "cell_type": "code",
   "execution_count": 5,
   "id": "bf1777e4-bce1-4f3b-84aa-12ad07570c85",
   "metadata": {},
   "outputs": [
    {
     "name": "stderr",
     "output_type": "stream",
     "text": [
      "No model was supplied, defaulted to distilbert/distilbert-base-cased-distilled-squad and revision 564e9b5 (https://huggingface.co/distilbert/distilbert-base-cased-distilled-squad).\n",
      "Using a pipeline without specifying a model name and revision in production is not recommended.\n"
     ]
    },
    {
     "name": "stdout",
     "output_type": "stream",
     "text": [
      "\n",
      "Question Answering Pipeline:\n"
     ]
    },
    {
     "name": "stderr",
     "output_type": "stream",
     "text": [
      "Hardware accelerator e.g. GPU is available in the environment, but no `device` argument is passed to the `Pipeline` object. Model will be on CPU.\n"
     ]
    },
    {
     "name": "stdout",
     "output_type": "stream",
     "text": [
      "{'score': 0.9780074954032898, 'start': 35, 'end': 43, 'answer': 'New York'}\n"
     ]
    }
   ],
   "source": [
    "# Question Answering Pipeline\n",
    "# This pipeline answers questions based on the context provided.\n",
    "print(\"\\nQuestion Answering Pipeline:\")\n",
    "question_answerer = pipeline(\"question-answering\")\n",
    "qa_result = question_answerer(question=\"Where is Hugging Face based?\",\n",
    "                               context=\"Hugging Face is a startup based in New York.\")\n",
    "print(qa_result)\n",
    "# Deleting the pipeline variable to free up memory\n",
    "del question_answerer"
   ]
  },
  {
   "cell_type": "code",
   "execution_count": 6,
   "id": "77468d45-64da-4d57-8597-9269521b0fe8",
   "metadata": {},
   "outputs": [
    {
     "name": "stderr",
     "output_type": "stream",
     "text": [
      "No model was supplied, defaulted to google-t5/t5-base and revision a9723ea (https://huggingface.co/google-t5/t5-base).\n",
      "Using a pipeline without specifying a model name and revision in production is not recommended.\n"
     ]
    },
    {
     "name": "stdout",
     "output_type": "stream",
     "text": [
      "\n",
      "Translation Pipeline (English to German):\n"
     ]
    },
    {
     "name": "stderr",
     "output_type": "stream",
     "text": [
      "Hardware accelerator e.g. GPU is available in the environment, but no `device` argument is passed to the `Pipeline` object. Model will be on CPU.\n"
     ]
    },
    {
     "name": "stdout",
     "output_type": "stream",
     "text": [
      "Hugging Face ist ein Technologieunternehmen.\n"
     ]
    }
   ],
   "source": [
    "# Translation Pipeline\n",
    "# This pipeline translates text from one language to another.\n",
    "print(\"\\nTranslation Pipeline (English to German):\")\n",
    "translator = pipeline(\"translation_en_to_de\")\n",
    "translation = translator(\"Hugging Face is a technology company.\", max_length=40)\n",
    "print(translation[0]['translation_text'])\n",
    "# Deleting the pipeline variable to free up memory\n",
    "del translator"
   ]
  },
  {
   "cell_type": "code",
   "execution_count": 9,
   "id": "921dfce2-7c1f-4e3c-8ee1-af8900f99b14",
   "metadata": {},
   "outputs": [
    {
     "name": "stderr",
     "output_type": "stream",
     "text": [
      "No model was supplied, defaulted to sshleifer/distilbart-cnn-12-6 and revision a4f8f3e (https://huggingface.co/sshleifer/distilbart-cnn-12-6).\n",
      "Using a pipeline without specifying a model name and revision in production is not recommended.\n"
     ]
    },
    {
     "name": "stdout",
     "output_type": "stream",
     "text": [
      "\n",
      "Summarization Pipeline:\n"
     ]
    },
    {
     "name": "stderr",
     "output_type": "stream",
     "text": [
      "Hardware accelerator e.g. GPU is available in the environment, but no `device` argument is passed to the `Pipeline` object. Model will be on CPU.\n"
     ]
    },
    {
     "name": "stdout",
     "output_type": "stream",
     "text": [
      " The earliest known inhabitants of what is now Switzerland were prehistoric tribes, including the Celts, who settled in the region around 1500 BCE . Roman general Julius Caesar incorporated the region into the Roman Empire in 58 BCE .\n"
     ]
    }
   ],
   "source": [
    "# Summarization Pipeline\n",
    "# This pipeline provides a summary for a given text.\n",
    "print(\"\\nSummarization Pipeline:\")\n",
    "summarizer = pipeline(\"summarization\")\n",
    "text = \"\"\"\n",
    "The History of Switzerland: A Journey Through Time\n",
    "\n",
    "Switzerland, a landlocked country in the heart of Europe, has a rich and fascinating history that spans thousands of years. From its early inhabitants in prehistoric times to its development as a neutral and prosperous nation, Switzerland’s story is one of resilience, cooperation, and independence.\n",
    "\n",
    "Early History and Roman Influence\n",
    "\n",
    "The earliest known inhabitants of what is now Switzerland were prehistoric tribes, including the Celts, who settled in the region around 1500 BCE. One of the most significant Celtic tribes, the Helvetii, occupied much of present-day Switzerland. However, their attempt to migrate westward in 58 BCE was thwarted by the Roman general Julius Caesar, who incorporated the region into the Roman Empire.\n",
    "\n",
    "Under Roman rule, Switzerland became a vital part of the empire’s infrastructure, with well-developed roads, cities, and trade routes. Roman settlements such as Aventicum (modern-day Avenches) and Augusta Raurica flourished. The region remained under Roman control until the empire’s decline in the 5th century CE, when Germanic tribes, including the Alemanni and Burgundians, migrated into the area.\n",
    "\n",
    "The Middle Ages and the Formation of the Confederation\n",
    "\n",
    "During the Middle Ages, Switzerland was divided among feudal lords and bishops, including the powerful Habsburg family. However, Swiss communities, particularly those in mountainous areas, sought to maintain autonomy from these rulers. On August 1, 1291, three cantons—Uri, Schwyz, and Unterwalden—formed a defensive alliance known as the Swiss Confederation, marking the traditional founding of Switzerland.\n",
    "\n",
    "Over the next two centuries, the confederation expanded as other regions joined the alliance, and Swiss forces won decisive battles against Habsburg rule, including the Battle of Morgarten (1315) and the Battle of Sempach (1386). By the late 15th century, the Swiss had established a reputation for military prowess, with Swiss mercenaries being highly sought after across Europe.\n",
    "\n",
    "Reformation and the Swiss Neutrality Tradition\n",
    "\n",
    "The 16th century saw the rise of the Protestant Reformation, which deeply affected Switzerland. Reformers such as Ulrich Zwingli in Zurich and John Calvin in Geneva played key roles in shaping Protestant theology and politics. However, religious divisions also led to internal conflicts, as different cantons adhered to either Protestantism or Catholicism.\n",
    "\n",
    "Switzerland’s policy of neutrality began to take shape during the 17th century, particularly after the Thirty Years’ War (1618–1648). The Treaty of Westphalia in 1648 formally recognized Switzerland’s independence from the Holy Roman Empire, solidifying its status as a neutral entity in European affairs.\n",
    "\n",
    "Napoleonic Era and the Birth of Modern Switzerland\n",
    "\n",
    "During the late 18th century, Switzerland was affected by the French Revolution and Napoleon’s expansionist ambitions. In 1798, the French invaded and established the Helvetic Republic, centralizing the Swiss government. However, Swiss resistance and internal discord led to instability, and by 1803, Napoleon reintroduced a more decentralized system, the Act of Mediation.\n",
    "\n",
    "Following Napoleon’s defeat, the Congress of Vienna in 1815 restored Swiss sovereignty and reinforced its policy of neutrality. Switzerland was declared a permanently neutral state, a status it has maintained ever since.\n",
    "\"\"\"\n",
    "summary = summarizer(text, max_length=45, min_length=25)\n",
    "print(summary[0]['summary_text'])\n",
    "# Deleting the pipeline variable to free up memory\n",
    "del summarizer"
   ]
  },
  {
   "cell_type": "markdown",
   "id": "e3a643f8-62b4-4331-a46e-d657edece99a",
   "metadata": {},
   "source": [
    "<b> More on Transformers on Thu, Fri</b>"
   ]
  },
  {
   "cell_type": "code",
   "execution_count": null,
   "id": "92432bb6-906f-4ec9-ae23-f4fcad7e0106",
   "metadata": {},
   "outputs": [],
   "source": []
  }
 ],
 "metadata": {
  "kernelspec": {
   "display_name": "Python 3 (ipykernel)",
   "language": "python",
   "name": "python3"
  },
  "language_info": {
   "codemirror_mode": {
    "name": "ipython",
    "version": 3
   },
   "file_extension": ".py",
   "mimetype": "text/x-python",
   "name": "python",
   "nbconvert_exporter": "python",
   "pygments_lexer": "ipython3",
   "version": "3.10.12"
  }
 },
 "nbformat": 4,
 "nbformat_minor": 5
}
