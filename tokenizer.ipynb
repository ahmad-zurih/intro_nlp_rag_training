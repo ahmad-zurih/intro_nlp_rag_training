{
 "cells": [
  {
   "cell_type": "code",
   "execution_count": 1,
   "id": "259bdbe9",
   "metadata": {
    "lines_to_next_cell": 1
   },
   "outputs": [],
   "source": [
    "import string"
   ]
  },
  {
   "cell_type": "code",
   "execution_count": 2,
   "id": "f4c93a08",
   "metadata": {
    "lines_to_next_cell": 1
   },
   "outputs": [],
   "source": [
    "def tokenize_text(text):\n",
    "    # Rule 1: Replace every punctuation with whitespace then the punctuation\n",
    "    for punct in string.punctuation:\n",
    "        text = text.replace(punct, f' {punct}')\n",
    "    \n",
    "    # Rule 2: Replace every whitespace with new line character\n",
    "    text = text.replace(' ', '\\n')\n",
    "    \n",
    "    return text"
   ]
  },
  {
   "cell_type": "code",
   "execution_count": 5,
   "id": "9967d779",
   "metadata": {
    "lines_to_next_cell": 1
   },
   "outputs": [],
   "source": [
    "def main():\n",
    "    # Read the text from the file\n",
    "    with open('data/english.txt', 'r') as file:\n",
    "        text = file.read()\n",
    "    \n",
    "    # Tokenize the text\n",
    "    tokenized_text = tokenize_text(text)\n",
    "    \n",
    "    # Write the tokenized text to a new file\n",
    "    with open('data/english_tokenized.txt', 'w') as file:\n",
    "        file.write(tokenized_text)"
   ]
  },
  {
   "cell_type": "code",
   "execution_count": 6,
   "id": "3beb2880",
   "metadata": {},
   "outputs": [],
   "source": [
    "if __name__ == \"__main__\":\n",
    "    main()"
   ]
  },
  {
   "cell_type": "code",
   "execution_count": 7,
   "id": "4aacdf29-87a6-42b0-baf7-f212af16e35a",
   "metadata": {},
   "outputs": [
    {
     "data": {
      "text/plain": [
       "'Today\\nis\\na\\nvery\\nnice\\nin\\nBern'"
      ]
     },
     "execution_count": 7,
     "metadata": {},
     "output_type": "execute_result"
    }
   ],
   "source": [
    "tokenize_text(\"Today is a very nice in Bern\")"
   ]
  },
  {
   "cell_type": "code",
   "execution_count": null,
   "id": "f4a7c8d2-5852-4629-a1ca-3f30ba40b5e7",
   "metadata": {},
   "outputs": [],
   "source": []
  }
 ],
 "metadata": {
  "jupytext": {
   "cell_metadata_filter": "-all",
   "main_language": "python",
   "notebook_metadata_filter": "-all"
  },
  "kernelspec": {
   "display_name": "Python 3 (ipykernel)",
   "language": "python",
   "name": "python3"
  },
  "language_info": {
   "codemirror_mode": {
    "name": "ipython",
    "version": 3
   },
   "file_extension": ".py",
   "mimetype": "text/x-python",
   "name": "python",
   "nbconvert_exporter": "python",
   "pygments_lexer": "ipython3",
   "version": "3.10.12"
  }
 },
 "nbformat": 4,
 "nbformat_minor": 5
}
